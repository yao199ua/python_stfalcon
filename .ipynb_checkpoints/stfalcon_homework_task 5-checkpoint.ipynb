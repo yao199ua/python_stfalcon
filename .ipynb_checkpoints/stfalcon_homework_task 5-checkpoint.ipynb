{
 "cells": [
  {
   "cell_type": "code",
   "execution_count": null,
   "metadata": {},
   "outputs": [],
   "source": [
    "# 5. SUM OF DIGITS OF A NUMBER"
   ]
  },
  {
   "cell_type": "code",
   "execution_count": null,
   "metadata": {},
   "outputs": [],
   "source": [
    "integer_num = input('Enter an integer')"
   ]
  },
  {
   "cell_type": "code",
   "execution_count": null,
   "metadata": {},
   "outputs": [],
   "source": [
    "while input = True:\n",
    "    for n in integer_num.split():\n",
    "        print(int(integer_num))"
   ]
  },
  {
   "cell_type": "code",
   "execution_count": 4,
   "metadata": {},
   "outputs": [
    {
     "data": {
      "text/plain": [
       "'25'"
      ]
     },
     "execution_count": 4,
     "metadata": {},
     "output_type": "execute_result"
    }
   ],
   "source": [
    "integer_num\n",
    "# I stopped getting an input window...\n",
    "#restarting Kernel & clearing output fixed.."
   ]
  },
  {
   "cell_type": "code",
   "execution_count": 6,
   "metadata": {},
   "outputs": [],
   "source": [
    "#did not get an int back, 25 is a string :("
   ]
  },
  {
   "cell_type": "code",
   "execution_count": 8,
   "metadata": {},
   "outputs": [
    {
     "data": {
      "text/plain": [
       "'25'"
      ]
     },
     "execution_count": 8,
     "metadata": {},
     "output_type": "execute_result"
    }
   ],
   "source": [
    "integer_num"
   ]
  },
  {
   "cell_type": "code",
   "execution_count": 10,
   "metadata": {},
   "outputs": [
    {
     "data": {
      "text/plain": [
       "\"\\ninput('Type an integer')\\n\\nwhile integer_num is int:\\n    for # ... тут треба розбити 2х- чи 3хзначне число на строку і конвертувати строку в int ?\\n    print('The sum of digits is {}')\\n    print('Your input contained {} digits ')\\n    \\nelse: \\n    input('Type an integer')\\n\""
      ]
     },
     "execution_count": 10,
     "metadata": {},
     "output_type": "execute_result"
    }
   ],
   "source": [
    "'''\n",
    "input('Type an integer')\n",
    "\n",
    "while integer_num is int:\n",
    "    for # ... тут треба розбити 2х- чи 3хзначне число на строку і конвертувати строку в int ?\n",
    "    print('The sum of digits is {}')\n",
    "    print('Your input contained {} digits ')\n",
    "    \n",
    "else: \n",
    "    input('Type an integer')\n",
    "'''    "
   ]
  },
  {
   "cell_type": "code",
   "execution_count": null,
   "metadata": {},
   "outputs": [],
   "source": []
  }
 ],
 "metadata": {
  "kernelspec": {
   "display_name": "Python 3",
   "language": "python",
   "name": "python3"
  }
 },
 "nbformat": 4,
 "nbformat_minor": 4
}
