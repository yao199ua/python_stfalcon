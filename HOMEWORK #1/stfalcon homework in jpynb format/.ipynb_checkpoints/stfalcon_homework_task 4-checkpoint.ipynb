{
 "cells": [
  {
   "cell_type": "code",
   "execution_count": 9,
   "metadata": {},
   "outputs": [
    {
     "data": {
      "text/plain": [
       "\"\\nindex_count = 0\\ninput('Type any letter')\\n\\nwhile letter in alphabet:\\n    print('You entered (input)')\\n    \\n# by letter I mean the result of input command, ideally...\\n\\nfor letter in alphabet:\\n    print(f'The previous letter is {}. \\n    The next letter is {}')\\n\\n\""
      ]
     },
     "execution_count": 9,
     "metadata": {},
     "output_type": "execute_result"
    }
   ],
   "source": [
    "# 4. Alphabet\n",
    "'''\n",
    "alphabet = [(range(a,z))] # FAIL :D\n",
    "'''\n",
    "\n",
    "import string\n",
    "string.ascii_lowercase\n",
    "# Stackoverflow https://stackoverflow.com/questions/16060899/alphabet-range-in-python\n",
    "\n",
    "# list.ascii_lowercase <<< type object 'list' has no attribute 'ascii_lowercase'\n",
    "\n",
    "# list.string(ascii_lowercase) <<< type object 'list' has no attribute 'string'\n",
    "\n",
    "list(string.ascii_lowercase)\n",
    "alphabet = list(string.ascii_lowercase)\n",
    "\n",
    "alphabet\n",
    "# Use ENUMERATE + f'string ???\n",
    "\n",
    "'''\n",
    "index_count = 0\n",
    "input('Type any letter')\n",
    "\n",
    "while letter in alphabet:\n",
    "    print('You entered (input)')\n",
    "    \n",
    "# by letter I mean the result of input command, ideally...\n",
    "\n",
    "for letter in alphabet:\n",
    "    print(f'The previous letter is {}. \n",
    "    The next letter is {}')\n",
    "\n",
    "''' \n",
    "\n",
    "#enumerate alphabet # SyntaxError: invalid syntax\n",
    "\n",
    "#enumerate 'alphabet' # SyntaxError: invalid syntax"
   ]
  },
  {
   "cell_type": "code",
   "execution_count": 10,
   "metadata": {},
   "outputs": [
    {
     "data": {
      "text/plain": [
       "['a',\n",
       " 'b',\n",
       " 'c',\n",
       " 'd',\n",
       " 'e',\n",
       " 'f',\n",
       " 'g',\n",
       " 'h',\n",
       " 'i',\n",
       " 'j',\n",
       " 'k',\n",
       " 'l',\n",
       " 'm',\n",
       " 'n',\n",
       " 'o',\n",
       " 'p',\n",
       " 'q',\n",
       " 'r',\n",
       " 's',\n",
       " 't',\n",
       " 'u',\n",
       " 'v',\n",
       " 'w',\n",
       " 'x',\n",
       " 'y',\n",
       " 'z']"
      ]
     },
     "execution_count": 10,
     "metadata": {},
     "output_type": "execute_result"
    }
   ],
   "source": [
    "alphabet"
   ]
  },
  {
   "cell_type": "code",
   "execution_count": null,
   "metadata": {},
   "outputs": [],
   "source": []
  }
 ],
 "metadata": {
  "kernelspec": {
   "display_name": "Python 3",
   "language": "python",
   "name": "python3"
  },
  "language_info": {
   "codemirror_mode": {
    "name": "ipython",
    "version": 3
   },
   "file_extension": ".py",
   "mimetype": "text/x-python",
   "name": "python",
   "nbconvert_exporter": "python",
   "pygments_lexer": "ipython3",
   "version": "3.8.3"
  }
 },
 "nbformat": 4,
 "nbformat_minor": 4
}
